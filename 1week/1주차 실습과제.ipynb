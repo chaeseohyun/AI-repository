{
 "cells": [
  {
   "cell_type": "code",
   "execution_count": 14,
   "id": "87c53d0a-8132-47df-ba16-43cc30af4c26",
   "metadata": {},
   "outputs": [],
   "source": [
    "import numpy as np\n",
    "import pandas as pd\n",
    "import seaborn as sns\n",
    "import matplotlib.pyplot as plt\n",
    "from sklearn.model_selection import train_test_split\n",
    "from sklearn.preprocessing import StandardScaler, LabelEncoder\n",
    "from sklearn.tree import DecisionTreeClassifier\n",
    "from sklearn.ensemble import RandomForestClassifier\n",
    "from sklearn.svm import SVC\n",
    "from sklearn.linear_model import LogisticRegression\n",
    "from sklearn.metrics import accuracy_score, classification_report"
   ]
  },
  {
   "cell_type": "code",
   "execution_count": 16,
   "id": "62b81328-80d4-4f39-a4e8-61df37aba0ea",
   "metadata": {},
   "outputs": [],
   "source": [
    "# 데이터 로드\n",
    "file_path = \"C:/AI/1week/iris.csv\"\n",
    "iris_df = pd.read_csv(file_path)\n",
    "\n",
    "# 클래스(Label) 변환\n",
    "X_new = iris_df.drop(columns=[\"Name\"])  # 특성 데이터\n",
    "y_new = LabelEncoder().fit_transform(iris_df[\"Name\"])  # 문자열 레이블을 숫자로 변환\n",
    "\n",
    "# 데이터 분할 (80% 학습, 20% 테스트)\n",
    "X_train_new, X_test_new, y_train_new, y_test_new = train_test_split(\n",
    "    X_new, y_new, test_size=0.2, random_state=42, stratify=y_new\n",
    ")\n",
    "\n",
    "# 표준화 (SVM과 로지스틱 회귀를 위해)\n",
    "scaler = StandardScaler()\n",
    "X_train_scaled_new = scaler.fit_transform(X_train_new)\n",
    "X_test_scaled_new = scaler.transform(X_test_new)"
   ]
  },
  {
   "cell_type": "code",
   "execution_count": 18,
   "id": "63a86d32-8f75-4ca1-a51d-bdc8768bc96f",
   "metadata": {},
   "outputs": [
    {
     "name": "stdout",
     "output_type": "stream",
     "text": [
      "\n",
      "Decision Tree Classification Report:\n",
      "              precision    recall  f1-score   support\n",
      "\n",
      "           0       1.00      1.00      1.00        10\n",
      "           1       0.90      0.90      0.90        10\n",
      "           2       0.90      0.90      0.90        10\n",
      "\n",
      "    accuracy                           0.93        30\n",
      "   macro avg       0.93      0.93      0.93        30\n",
      "weighted avg       0.93      0.93      0.93        30\n",
      "\n",
      "Decision Tree Accuracy: 93.33%\n"
     ]
    }
   ],
   "source": [
    "# DT 모델 학습 및 평가\n",
    "dt_model = DecisionTreeClassifier(random_state=42)\n",
    "dt_model.fit(X_train_new, y_train_new)\n",
    "dt_pred_new = dt_model.predict(X_test_new)\n",
    "print(\"\\nDecision Tree Classification Report:\")\n",
    "print(classification_report(y_test_new, dt_pred_new))\n",
    "print(f\"Decision Tree Accuracy: {accuracy_score(y_test_new, dt_pred_new):.2%}\")"
   ]
  },
  {
   "cell_type": "code",
   "execution_count": 20,
   "id": "1aa4c1c9-a663-4389-9bfd-30b34b21b8ff",
   "metadata": {},
   "outputs": [
    {
     "name": "stdout",
     "output_type": "stream",
     "text": [
      "\n",
      "Random Forest Classification Report:\n",
      "              precision    recall  f1-score   support\n",
      "\n",
      "           0       1.00      1.00      1.00        10\n",
      "           1       0.82      0.90      0.86        10\n",
      "           2       0.89      0.80      0.84        10\n",
      "\n",
      "    accuracy                           0.90        30\n",
      "   macro avg       0.90      0.90      0.90        30\n",
      "weighted avg       0.90      0.90      0.90        30\n",
      "\n",
      "Random Forest Accuracy: 90.00%\n"
     ]
    }
   ],
   "source": [
    "# RF 모델 학습 및 평가\n",
    "rf_model = RandomForestClassifier(n_estimators=100, random_state=42)\n",
    "rf_model.fit(X_train_new, y_train_new)\n",
    "rf_pred_new = rf_model.predict(X_test_new)\n",
    "print(\"\\nRandom Forest Classification Report:\")\n",
    "print(classification_report(y_test_new, rf_pred_new))\n",
    "print(f\"Random Forest Accuracy: {accuracy_score(y_test_new, rf_pred_new):.2%}\")"
   ]
  },
  {
   "cell_type": "code",
   "execution_count": 22,
   "id": "0c1299d9-5111-4d9a-8664-1852004ba563",
   "metadata": {},
   "outputs": [
    {
     "name": "stdout",
     "output_type": "stream",
     "text": [
      "\n",
      "SVM Classification Report:\n",
      "              precision    recall  f1-score   support\n",
      "\n",
      "           0       1.00      1.00      1.00        10\n",
      "           1       1.00      1.00      1.00        10\n",
      "           2       1.00      1.00      1.00        10\n",
      "\n",
      "    accuracy                           1.00        30\n",
      "   macro avg       1.00      1.00      1.00        30\n",
      "weighted avg       1.00      1.00      1.00        30\n",
      "\n",
      "SVM Accuracy: 100.00%\n"
     ]
    }
   ],
   "source": [
    "# SVM 모델 학습 및 평가\n",
    "svm_model = SVC(kernel='linear', random_state=42)\n",
    "svm_model.fit(X_train_scaled_new, y_train_new)\n",
    "svm_pred_new = svm_model.predict(X_test_scaled_new)\n",
    "print(\"\\nSVM Classification Report:\")\n",
    "print(classification_report(y_test_new, svm_pred_new))\n",
    "print(f\"SVM Accuracy: {accuracy_score(y_test_new, svm_pred_new):.2%}\")"
   ]
  },
  {
   "cell_type": "code",
   "execution_count": 24,
   "id": "6daeb728-cd62-4a7a-9708-777f528efa3a",
   "metadata": {},
   "outputs": [
    {
     "name": "stdout",
     "output_type": "stream",
     "text": [
      "\n",
      "Logistic Regression Classification Report:\n",
      "              precision    recall  f1-score   support\n",
      "\n",
      "           0       1.00      1.00      1.00        10\n",
      "           1       0.90      0.90      0.90        10\n",
      "           2       0.90      0.90      0.90        10\n",
      "\n",
      "    accuracy                           0.93        30\n",
      "   macro avg       0.93      0.93      0.93        30\n",
      "weighted avg       0.93      0.93      0.93        30\n",
      "\n",
      "Logistic Regression Accuracy: 93.33%\n"
     ]
    }
   ],
   "source": [
    "# LR 모델 학습 및 평가\n",
    "lr_model = LogisticRegression(max_iter=200, random_state=42)\n",
    "lr_model.fit(X_train_scaled_new, y_train_new)\n",
    "lr_pred_new = lr_model.predict(X_test_scaled_new)\n",
    "print(\"\\nLogistic Regression Classification Report:\")\n",
    "print(classification_report(y_test_new, lr_pred_new))\n",
    "print(f\"Logistic Regression Accuracy: {accuracy_score(y_test_new, lr_pred_new):.2%}\")"
   ]
  }
 ],
 "metadata": {
  "kernelspec": {
   "display_name": "Python [conda env:base] *",
   "language": "python",
   "name": "conda-base-py"
  },
  "language_info": {
   "codemirror_mode": {
    "name": "ipython",
    "version": 3
   },
   "file_extension": ".py",
   "mimetype": "text/x-python",
   "name": "python",
   "nbconvert_exporter": "python",
   "pygments_lexer": "ipython3",
   "version": "3.12.7"
  }
 },
 "nbformat": 4,
 "nbformat_minor": 5
}
